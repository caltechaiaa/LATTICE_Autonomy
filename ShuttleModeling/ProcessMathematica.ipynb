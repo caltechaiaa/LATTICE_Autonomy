{
 "cells": [
  {
   "cell_type": "code",
   "execution_count": 1,
   "id": "645da92a-24be-4b5d-a62b-fe07d34dbe87",
   "metadata": {},
   "outputs": [],
   "source": [
    "def process_text(text, lookup):\n",
    "    for old, new in lookup.items():\n",
    "        text = text.replace(old, new)\n",
    "    return text"
   ]
  },
  {
   "cell_type": "code",
   "execution_count": 5,
   "id": "5dfe584b-edd4-4a93-9297-6fde93c53cd3",
   "metadata": {},
   "outputs": [
    {
     "name": "stdin",
     "output_type": "stream",
     "text": [
      "Enter eq:  -0.2+0.02 (2 \\[Pi]-ArcCos[0.04/Sqrt[(-0.1542+0.25 Cos[a])^2+(-0.125+0.25 Sin[a])^2]]-ArcCos[0.04/Sqrt[(-0.3542+0.25 Cos[a])^2+(-0.11+0.25 Sin[a])^2]]-ArcCos[(-0.04+(-0.3542+0.25 Cos[a])^2+(-0.1542+0.25 Cos[a])^2+(-0.125+0.25 Sin[a])^2+(-0.11+0.25 Sin[a])^2)/(2 Sqrt[(-0.1542+0.25 Cos[a])^2+(-0.125+0.25 Sin[a])^2] Sqrt[(-0.3542+0.25 Cos[a])^2+(-0.11+0.25 Sin[a])^2])])+0.02 (\\[Pi]-ArcCos[0.04/Sqrt[(-0.1542+0.25 Cos[a])^2+(-0.125+0.25 Sin[a])^2]]-ArcSin[(-0.1542+0.25 Cos[a])/Sqrt[(-0.1542+0.25 Cos[a])^2+(-0.125+0.25 Sin[a])^2]])+2 Sqrt[-0.0004+1/4 ((-0.1542+0.25 Cos[a])^2+(-0.125+0.25 Sin[a])^2)]+2 Sqrt[-0.0004+1/4 ((-0.3542+0.25 Cos[a])^2+(-0.11+0.25 Sin[a])^2)]\n"
     ]
    }
   ],
   "source": [
    "input_text = input(\"Enter eq: \")"
   ]
  },
  {
   "cell_type": "code",
   "execution_count": 8,
   "id": "fe8dae54-3984-4a29-ab22-10a7f276c6f8",
   "metadata": {},
   "outputs": [],
   "source": [
    "process = {\n",
    "    \")(\": \")*(\",\n",
    "\" -\": \"-\",\n",
    "    \" +\": \"+\",\n",
    "    \". \": \"*\",\n",
    "    \" \": \"*\",\n",
    "    \"^\": \"**\",\n",
    "     \"ArcCos\" : \"math.acos\",\n",
    "    \"ArcSin\" : \"math.asin\",\n",
    "    \"Sqrt\": \"math.sqrt\",\n",
    "    \"Cos\": \"math.cos\",\n",
    "    \"Sin\": \"math.sin\",\n",
    "    \"Csc\" : \"mp.csc\",\n",
    "    \"Cot\" : \"mp.cot\",\n",
    "   \n",
    "    \"\\[Pi]\" : \"math.pi\",\n",
    "    \"[\": \"(\",\n",
    "    \"]\": \")\"\n",
    "}"
   ]
  },
  {
   "cell_type": "code",
   "execution_count": 9,
   "id": "a9604b8d-90f8-469a-98b5-c4249845e6e7",
   "metadata": {},
   "outputs": [
    {
     "name": "stdout",
     "output_type": "stream",
     "text": [
      "-0.2+0.02*(2*math.pi-math.acos(0.04/math.sqrt((-0.1542+0.25*math.cos(a))**2+(-0.125+0.25*math.sin(a))**2))-math.acos(0.04/math.sqrt((-0.3542+0.25*math.cos(a))**2+(-0.11+0.25*math.sin(a))**2))-math.acos((-0.04+(-0.3542+0.25*math.cos(a))**2+(-0.1542+0.25*math.cos(a))**2+(-0.125+0.25*math.sin(a))**2+(-0.11+0.25*math.sin(a))**2)/(2*math.sqrt((-0.1542+0.25*math.cos(a))**2+(-0.125+0.25*math.sin(a))**2)*math.sqrt((-0.3542+0.25*math.cos(a))**2+(-0.11+0.25*math.sin(a))**2))))+0.02*(math.pi-math.acos(0.04/math.sqrt((-0.1542+0.25*math.cos(a))**2+(-0.125+0.25*math.sin(a))**2))-math.asin((-0.1542+0.25*math.cos(a))/math.sqrt((-0.1542+0.25*math.cos(a))**2+(-0.125+0.25*math.sin(a))**2)))+2*math.sqrt(-0.0004+1/4*((-0.1542+0.25*math.cos(a))**2+(-0.125+0.25*math.sin(a))**2))+2*math.sqrt(-0.0004+1/4*((-0.3542+0.25*math.cos(a))**2+(-0.11+0.25*math.sin(a))**2))\n"
     ]
    }
   ],
   "source": [
    "out_text = process_text(input_text, process)\n",
    "print(out_text)"
   ]
  },
  {
   "cell_type": "code",
   "execution_count": 8,
   "id": "6db2e43a-eaf0-4229-a9c7-e677166e6a24",
   "metadata": {},
   "outputs": [
    {
     "ename": "NameError",
     "evalue": "name 'out_text' is not defined",
     "output_type": "error",
     "traceback": [
      "\u001b[1;31m---------------------------------------------------------------------------\u001b[0m",
      "\u001b[1;31mNameError\u001b[0m                                 Traceback (most recent call last)",
      "Input \u001b[1;32mIn [8]\u001b[0m, in \u001b[0;36m<cell line: 2>\u001b[1;34m()\u001b[0m\n\u001b[0;32m      1\u001b[0m \u001b[38;5;28;01mfrom\u001b[39;00m \u001b[38;5;21;01mblack\u001b[39;00m \u001b[38;5;28;01mimport\u001b[39;00m format_str, FileMode\n\u001b[1;32m----> 2\u001b[0m formatted \u001b[38;5;241m=\u001b[39m format_str(\u001b[43mout_text\u001b[49m, mode\u001b[38;5;241m=\u001b[39mFileMode())\n\u001b[0;32m      3\u001b[0m \u001b[38;5;28mprint\u001b[39m(formatted)\n",
      "\u001b[1;31mNameError\u001b[0m: name 'out_text' is not defined"
     ]
    }
   ],
   "source": [
    "from black import format_str, FileMode\n",
    "formatted = format_str(out_text, mode=FileMode())\n",
    "print(formatted)"
   ]
  },
  {
   "cell_type": "code",
   "execution_count": 14,
   "id": "972ea8d0-0c79-46f1-8315-da0b0b092f80",
   "metadata": {},
   "outputs": [
    {
     "name": "stdin",
     "output_type": "stream",
     "text": [
      "Enter Mathematica CForm:  -leaderPulleyX + rPulley*(2*Pi - ArcCos((2*rPulley)/Sqrt(Power(-armX + armLength*Cos(armAngle),2) + Power(-armY + armLength*Sin(armAngle),2))) -        ArcCos((2*rPulley)/Sqrt(Power(-armX + leaderPulleyX + armLength*Cos(armAngle),2) +            Power(-armY - leaderPulleyY + armLength*Sin(armAngle),2))) -        ArcCos((-Power(leaderPulleyX,2) + Power(-armX + armLength*Cos(armAngle),2) + Power(-armX + leaderPulleyX + armLength*Cos(armAngle),2) +            Power(-armY + armLength*Sin(armAngle),2) + Power(-armY - leaderPulleyY + armLength*Sin(armAngle),2))/         (2.*Sqrt(Power(-armX + armLength*Cos(armAngle),2) + Power(-armY + armLength*Sin(armAngle),2))*           Sqrt(Power(-armX + leaderPulleyX + armLength*Cos(armAngle),2) + Power(-armY - leaderPulleyY + armLength*Sin(armAngle),2))))) +     rPulley*(Pi - ArcCos((2*rPulley)/         Sqrt(Power(-armX + leaderPulleyX + armLength*Cos(armAngle),2) + Power(-armY - leaderPulleyY + armLength*Sin(armAngle),2))) -        ArcSin((-armX + leaderPulleyX + armLength*Cos(armAngle))/         Sqrt(Power(-armX + leaderPulleyX + armLength*Cos(armAngle),2) + Power(-armY - leaderPulleyY + armLength*Sin(armAngle),2)))) +     2*Sqrt(-Power(rPulley,2) + (Power(-armX + armLength*Cos(armAngle),2) + Power(-armY + armLength*Sin(armAngle),2))/4.) +     2*Sqrt(-Power(rPulley,2) + (Power(-armX + leaderPulleyX + armLength*Cos(armAngle),2) +           Power(-armY - leaderPulleyY + armLength*Sin(armAngle),2))/4.)\n"
     ]
    }
   ],
   "source": [
    "cform = input(\"Enter Mathematica CForm: \")"
   ]
  },
  {
   "cell_type": "code",
   "execution_count": 15,
   "id": "d25b9ed5-7dd6-420d-93a5-1ef9f34d7d5a",
   "metadata": {},
   "outputs": [],
   "source": [
    "process_cform = {\n",
    "    \"ArcCos\": \"acos\",\n",
    "    \"ArcSin\": \"asin\",\n",
    "    \"Cos\" : \"cos\",\n",
    "    \"Sin\" : \"sin\",\n",
    "    \"Power\": \"pow\",\n",
    "    \"Sqrt\": \"sqrt\",\n",
    "    \"\\n\": \"\",\n",
    "    \" \": \"\"\n",
    "}"
   ]
  },
  {
   "cell_type": "code",
   "execution_count": 16,
   "id": "a10927b8-b833-4f0c-99aa-72eee3df4154",
   "metadata": {},
   "outputs": [
    {
     "data": {
      "text/plain": [
       "'-leaderPulleyX+rPulley*(2*Pi-acos((2*rPulley)/sqrt(pow(-armX+armLength*cos(armAngle),2)+pow(-armY+armLength*sin(armAngle),2)))-acos((2*rPulley)/sqrt(pow(-armX+leaderPulleyX+armLength*cos(armAngle),2)+pow(-armY-leaderPulleyY+armLength*sin(armAngle),2)))-acos((-pow(leaderPulleyX,2)+pow(-armX+armLength*cos(armAngle),2)+pow(-armX+leaderPulleyX+armLength*cos(armAngle),2)+pow(-armY+armLength*sin(armAngle),2)+pow(-armY-leaderPulleyY+armLength*sin(armAngle),2))/(2.*sqrt(pow(-armX+armLength*cos(armAngle),2)+pow(-armY+armLength*sin(armAngle),2))*sqrt(pow(-armX+leaderPulleyX+armLength*cos(armAngle),2)+pow(-armY-leaderPulleyY+armLength*sin(armAngle),2)))))+rPulley*(Pi-acos((2*rPulley)/sqrt(pow(-armX+leaderPulleyX+armLength*cos(armAngle),2)+pow(-armY-leaderPulleyY+armLength*sin(armAngle),2)))-asin((-armX+leaderPulleyX+armLength*cos(armAngle))/sqrt(pow(-armX+leaderPulleyX+armLength*cos(armAngle),2)+pow(-armY-leaderPulleyY+armLength*sin(armAngle),2))))+2*sqrt(-pow(rPulley,2)+(pow(-armX+armLength*cos(armAngle),2)+pow(-armY+armLength*sin(armAngle),2))/4.)+2*sqrt(-pow(rPulley,2)+(pow(-armX+leaderPulleyX+armLength*cos(armAngle),2)+pow(-armY-leaderPulleyY+armLength*sin(armAngle),2))/4.)'"
      ]
     },
     "execution_count": 16,
     "metadata": {},
     "output_type": "execute_result"
    }
   ],
   "source": [
    "process_text(cform, process_cform)"
   ]
  },
  {
   "cell_type": "code",
   "execution_count": null,
   "id": "204e0c2a-fe8a-4d40-924f-a9b2accdd833",
   "metadata": {},
   "outputs": [],
   "source": []
  }
 ],
 "metadata": {
  "kernelspec": {
   "display_name": "Python 3 (ipykernel)",
   "language": "python",
   "name": "python3"
  },
  "language_info": {
   "codemirror_mode": {
    "name": "ipython",
    "version": 3
   },
   "file_extension": ".py",
   "mimetype": "text/x-python",
   "name": "python",
   "nbconvert_exporter": "python",
   "pygments_lexer": "ipython3",
   "version": "3.9.12"
  }
 },
 "nbformat": 4,
 "nbformat_minor": 5
}
