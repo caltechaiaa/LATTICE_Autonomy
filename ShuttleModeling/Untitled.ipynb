{
 "cells": [
  {
   "cell_type": "code",
   "execution_count": 1,
   "id": "dc761a19-39b3-4541-bd28-37d6068f02c7",
   "metadata": {},
   "outputs": [],
   "source": [
    "def get_coeffs(t_i, t_f,p_i, v_i, p_f, v_f):\n",
    "    matrix = np.array([\n",
    "        [1.0, t_i, t_i**2, t_i**3],\n",
    "        [0.0, 1.0, 2 * t_i, 3 * t_i**2],\n",
    "        [1.0, t_f, t_f**2, t_f**3],\n",
    "        [0.0, 1.0, 2 * t_f, 3 * t_f**2]\n",
    "    ])\n",
    "    B = np.array([p_i, v_i, p_f, v_f])\n",
    "    return np.linalg.inv(matrix).dot(B)\n",
    "def calc_state(t, a, b, c, d):\n",
    "    return (a + b * t + c * t**2 + d * t**3), (b + 2 * c * t + 3 * d * t**2)\n"
   ]
  },
  {
   "cell_type": "code",
   "execution_count": 4,
   "id": "b0693e1b-4f89-48fc-8073-4e53432ea7d3",
   "metadata": {},
   "outputs": [],
   "source": [
    "import numpy as np"
   ]
  },
  {
   "cell_type": "code",
   "execution_count": 5,
   "id": "6d253625-2e5a-4464-8597-25c7859aa2c4",
   "metadata": {},
   "outputs": [
    {
     "data": {
      "text/plain": [
       "array([ 0.     ,  0.     ,  4.12125, -1.37375])"
      ]
     },
     "execution_count": 5,
     "metadata": {},
     "output_type": "execute_result"
    }
   ],
   "source": [
    "get_coeffs(0, 2, 0, 0, 7 * 3.14/4, 0)"
   ]
  },
  {
   "cell_type": "code",
   "execution_count": null,
   "id": "cecee846-e260-42d5-8ad3-c74f022cbd05",
   "metadata": {},
   "outputs": [],
   "source": []
  }
 ],
 "metadata": {
  "kernelspec": {
   "display_name": "Python 3 (ipykernel)",
   "language": "python",
   "name": "python3"
  },
  "language_info": {
   "codemirror_mode": {
    "name": "ipython",
    "version": 3
   },
   "file_extension": ".py",
   "mimetype": "text/x-python",
   "name": "python",
   "nbconvert_exporter": "python",
   "pygments_lexer": "ipython3",
   "version": "3.9.12"
  }
 },
 "nbformat": 4,
 "nbformat_minor": 5
}
